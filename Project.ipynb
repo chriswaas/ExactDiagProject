{
 "cells": [
  {
   "cell_type": "markdown",
   "metadata": {},
   "source": [
    "## Exact Diagonalization Project\n",
    "\n",
    "This is my project for the exact diagonalization module. The goal is to simulate the time evolution of a $N=20$ spin chain. As a Hamiltonian, I use the critical Ising Hamiltonian.\n",
    "The relevant variable that I keep track of is the entropy of entanglement $S_n$. for systems with $n=2,...,10$ spins. \n",
    "\n",
    "The expected behaviour is an increase of the entropy with time and then a saturation at $S_n=n$. \n",
    "The used definition for the entropy is $S = - \\sum_i p(i) \\log_2(p(i))$ with $p(i)$ being the eigenvalues of the reduced density matrix that describes the system."
   ]
  },
  {
   "cell_type": "code",
   "execution_count": 1,
   "metadata": {
    "collapsed": false
   },
   "outputs": [],
   "source": [
    "using PyPlot\n",
    "using Arpack\n",
    "using LinearAlgebra"
   ]
  },
  {
   "cell_type": "markdown",
   "metadata": {},
   "source": [
    "### Setup"
   ]
  },
  {
   "cell_type": "markdown",
   "metadata": {},
   "source": [
    "These functions are used for storing the datasets. They are not very efficient in terms of storage space since everything is stored as a string. Nevertheless, I did not invest too much time in these functions."
   ]
  },
  {
   "cell_type": "code",
   "execution_count": 2,
   "metadata": {
    "collapsed": false
   },
   "outputs": [],
   "source": [
    "function write_data(input::Array, file::String)\n",
    "    f = open(file, \"w\")\n",
    "    for i in 1:length(input[:,1])\n",
    "        println(f, string.(input[i,:]))\n",
    "    end\n",
    "    close(f) \n",
    "end;\n",
    "#8\n",
    "function read_data(file::String, T::Type) #not used anymore\n",
    "    f = open(file, \"r\")\n",
    "    output = T[]\n",
    "    for i in eachline(f)\n",
    "        output = push!(output, parse(T, i[3:end-2]))\n",
    "    end\n",
    "    close(f)\n",
    "    output\n",
    "end\n",
    "#18\n",
    "function read_data_matrix(file::String, T::Type, dim::Int) \n",
    "    f = open(file, \"r\")\n",
    "    lines = readlines(f)\n",
    "    rdata = zeros(T, length(lines), dim)\n",
    "    for i in 1:length(lines)\n",
    "        output = split(lines[i], \", \")\n",
    "        output[1] = output[1][2:end]\n",
    "        output[end] = output[end][1:end-1]\n",
    "        for j in 1:length(output)\n",
    "            rdata[i, j] = (parse(T, output[j][2:end-1]))\n",
    "        end\n",
    "    end\n",
    "    close(f)\n",
    "    rdata\n",
    "end;"
   ]
  },
  {
   "cell_type": "markdown",
   "metadata": {},
   "source": [
    "The function $multiplyHPsi$ is taken from the lecture, it uses the concept of sparse multiplication and the property of the Hamiltionian that it is local. It takes the current state vector as an input and outputs the Hamiltonion times the state vector."
   ]
  },
  {
   "cell_type": "code",
   "execution_count": 3,
   "metadata": {
    "collapsed": false
   },
   "outputs": [],
   "source": [
    "# function for sparse multiplication\n",
    "\n",
    "function multiplyHPsi(Psi, H2) \n",
    "    L = length(Psi)  # Dimension of the vector space\n",
    "    N = convert(Int64,log2(L))  # Number of spins\n",
    "    HPsi = zeros(L)\n",
    "    for n=1:N                              # This multiplies by the Hamiltonian H\n",
    "        Psi = reshape(Psi,(4,2^(N-2)))\n",
    "        HPsi = reshape(HPsi,(4,2^(N-2)))\n",
    "        HPsi += H2*Psi   \n",
    "        Psi = reshape(Psi,(2,2^(N-1)))\n",
    "        HPsi = reshape(HPsi,(2,2^(N-1)))\n",
    "        Psi = permutedims(Psi,(2,1))\n",
    "        HPsi = permutedims(HPsi,(2,1))\n",
    "    end\n",
    "    Psi = reshape(Psi,L)\n",
    "    HPsi = reshape(HPsi, L)\n",
    "    return HPsi\n",
    "end;"
   ]
  },
  {
   "cell_type": "markdown",
   "metadata": {},
   "source": [
    "Due to the long waiting times when I did the simulation, I made a progress bar, that shows the calculation time and the percentage of the progress."
   ]
  },
  {
   "cell_type": "code",
   "execution_count": 4,
   "metadata": {
    "collapsed": false
   },
   "outputs": [],
   "source": [
    "function progress(a::Int, t::Float64, p::Int)\n",
    "    x=\" \"^floor(Int, 100/p)\n",
    "    x = replace(x, \" \" => \"=\", count=Int(a/p))\n",
    "    ttg = round(((100/a)-1)*t; digits=2)\n",
    "    println(\"[\", x, \"] \", a, \"% progress; Calculation time: \", t, \"s\")\n",
    "end;"
   ]
  },
  {
   "cell_type": "markdown",
   "metadata": {},
   "source": [
    "$buildIsing$ creates the critical Ising Hamiltonian when called without an input. "
   ]
  },
  {
   "cell_type": "code",
   "execution_count": 5,
   "metadata": {
    "collapsed": false
   },
   "outputs": [
    {
     "data": {
      "text/plain": [
       "4×4 Array{Float64,2}:\n",
       " -0.707107  -0.0       -0.0       -0.707107\n",
       " -0.0       -0.0       -0.707107  -0.0     \n",
       " -0.0       -0.707107  -0.0       -0.0     \n",
       " -0.707107  -0.0       -0.0        0.707107"
      ]
     },
     "execution_count": 5,
     "metadata": {},
     "output_type": "execute_result"
    }
   ],
   "source": [
    "# Ising model (Hamiltonion for two spins)\n",
    "function buildIsing(theta=pi/4) # Ising model with transverse magnetic field h (critical theta=pi/4 by default)\n",
    "    X = [0. 1; 1 0]\n",
    "    Z = [1. 0; 0 -1]\n",
    "    E = diagm(0=>ones(2))\n",
    "    XX = kron(X,X)\n",
    "    HXX = XX\n",
    "    HZ = kron(Z,E) + kron(E,Z) #contribution of two sites                also works:    HZ = kron(Z,E)\n",
    "    H2 = -(cos(theta)*XX + sin(theta)/2*HZ) #divide by two since can be on both sites   son(theta)*HZ\n",
    "    return H2\n",
    "end\n",
    "\n",
    "H2=buildIsing()"
   ]
  },
  {
   "cell_type": "markdown",
   "metadata": {},
   "source": [
    "These two functions normalize/return the norm of a vector. I wrote them before noticing that the LinearAlgebra package probably has functions like these as well, but I continued using them during the project."
   ]
  },
  {
   "cell_type": "code",
   "execution_count": 6,
   "metadata": {
    "collapsed": false
   },
   "outputs": [],
   "source": [
    "function mynormalize(a::Array)\n",
    "    return a/mynorm(a)\n",
    "end\n",
    "\n",
    "function mynorm(a::Array)\n",
    "    b=a'*a\n",
    "    return sqrt(abs(b[1]))\n",
    "end;"
   ]
  },
  {
   "cell_type": "markdown",
   "metadata": {},
   "source": [
    "### Simulation\n",
    "\n",
    "These are the important functions for the simulation. $calc\\_subentropy$ calculates the entropy of entanglement for the systems with $n=2,...,10$ spins. The output is a 1x9 vector that contains the entropy of entanglement for each system.\n",
    "\n",
    "The calculation is done by computing the reduced density matrix with the definition used in the lecture: The state vector is reshaped to $2^n$ lines and then multiplied by its \"daggered\" self. The $2^n$ eigenvalues of this reduced density matrix are calculated with $eigvals$ and put into the formula for the entropy mentioned above."
   ]
  },
  {
   "cell_type": "code",
   "execution_count": 7,
   "metadata": {
    "collapsed": false
   },
   "outputs": [],
   "source": [
    "function calc_subentropy(psi::Array)\n",
    "    entropies = zeros(Float64, 1, 9)\n",
    "    for n in 2:10\n",
    "        psi = reshape(psi, 2^N)\n",
    "        psi = reshape(psi, (2^n, 2^(N-n)))\n",
    "        #for i in 1:2^(N-n) #partial trace over system B\n",
    "        #    dm += psi[:,i]*psi[:,i]' \n",
    "        #end\n",
    "        dm = psi*psi'\n",
    "        D = eigvals(dm)\n",
    "        if abs(sum(D)-1) > 1e-4\n",
    "            println(\"Careful for n=\", n,\": sum(D)=\", sum(D))\n",
    "        end\n",
    "        for i in 1:length(D)\n",
    "            if real(D[i]) > eps(Float64)\n",
    "                entropies[n-1] -= D[i]*log2(D[i]) \n",
    "            end\n",
    "        end\n",
    "    end\n",
    "    entropies\n",
    "end;"
   ]
  },
  {
   "cell_type": "markdown",
   "metadata": {},
   "source": [
    "Just down here, $N$ is set to twenty."
   ]
  },
  {
   "cell_type": "code",
   "execution_count": 8,
   "metadata": {
    "collapsed": true
   },
   "outputs": [],
   "source": [
    "N=20;"
   ]
  },
  {
   "cell_type": "markdown",
   "metadata": {},
   "source": [
    "For the $\\textbf{first}$ time, the storage arrays are initialized here:\n",
    "\n",
    "$timearray$ contains the the time at which the corresponing entropies were calculated.  These entropies are stored in $\\textbf{store}$."
   ]
  },
  {
   "cell_type": "code",
   "execution_count": 9,
   "metadata": {
    "collapsed": false
   },
   "outputs": [
    {
     "data": {
      "text/plain": [
       "0.0"
      ]
     },
     "execution_count": 9,
     "metadata": {},
     "output_type": "execute_result"
    }
   ],
   "source": [
    "timearray = zeros(Float64, 0)\n",
    "store = zeros(Float64, 0, 9)\n",
    "currentTime = 0."
   ]
  },
  {
   "cell_type": "markdown",
   "metadata": {},
   "source": [
    "To initialize the simulation, a state vector is created by taking $N$ random spin vectors and multiplied with the Kronecker product.  "
   ]
  },
  {
   "cell_type": "code",
   "execution_count": 11,
   "metadata": {
    "collapsed": false
   },
   "outputs": [
    {
     "data": {
      "text/plain": [
       "1.0000000000000009"
      ]
     },
     "metadata": {},
     "output_type": "display_data"
    },
    {
     "data": {
      "text/plain": [
       "1048576"
      ]
     },
     "metadata": {},
     "output_type": "display_data"
    }
   ],
   "source": [
    "up = randn(ComplexF64, N)\n",
    "down = randn(ComplexF64, N)\n",
    "Psi = mynormalize([up[1], down[1]])\n",
    "for i in 2:N\n",
    "    Psi = kron(Psi, mynormalize([up[i], down[i]]))\n",
    "end\n",
    "display(mynorm(Psi))\n",
    "display(length(Psi))"
   ]
  },
  {
   "cell_type": "markdown",
   "metadata": {},
   "source": [
    "For $\\textbf{all further}$ iterations, the stored data is loaded with this cell."
   ]
  },
  {
   "cell_type": "code",
   "execution_count": 21,
   "metadata": {
    "collapsed": false,
    "scrolled": true
   },
   "outputs": [
    {
     "data": {
      "text/plain": [
       "4560.0"
      ]
     },
     "execution_count": 21,
     "metadata": {},
     "output_type": "execute_result"
    }
   ],
   "source": [
    "Psi = read_data_matrix(\"psi.txt\", ComplexF64, 1);\n",
    "store = read_data_matrix(\"entropy.txt\", Float64, 9);\n",
    "timearray = read_data_matrix(\"time.txt\", Float64, 1);\n",
    "currentTime = timearray[end]"
   ]
  },
  {
   "cell_type": "markdown",
   "metadata": {},
   "source": [
    "This is just to check that everthing loaded in correctly."
   ]
  },
  {
   "cell_type": "code",
   "execution_count": 22,
   "metadata": {
    "collapsed": false
   },
   "outputs": [
    {
     "data": {
      "text/plain": [
       "45601"
      ]
     },
     "metadata": {},
     "output_type": "display_data"
    },
    {
     "data": {
      "text/plain": [
       "1048576"
      ]
     },
     "metadata": {},
     "output_type": "display_data"
    },
    {
     "data": {
      "text/plain": [
       "45601"
      ]
     },
     "metadata": {},
     "output_type": "display_data"
    },
    {
     "data": {
      "text/plain": [
       "9"
      ]
     },
     "metadata": {},
     "output_type": "display_data"
    }
   ],
   "source": [
    "display(length(timearray))\n",
    "display(length(Psi))\n",
    "display(length(store[:,1]))\n",
    "display(length(store[1,:]))"
   ]
  },
  {
   "cell_type": "markdown",
   "metadata": {},
   "source": [
    "As one can see, the two functions $calc\\_subentropy$ and $multiplyHPsi$ are very time consuming. They both are called in the time evolution once for each timestep. The timestep is going to be set at around $0.1$ms, to simulate one second of time evolution, this simulation takes about 7 hours."
   ]
  },
  {
   "cell_type": "code",
   "execution_count": 15,
   "metadata": {
    "collapsed": false
   },
   "outputs": [
    {
     "name": "stdout",
     "output_type": "stream",
     "text": [
      "  0.892027 seconds (7.78 k allocations: 65.782 MiB, 1.75% gc time)\n",
      "  1.519854 seconds (451 allocations: 1.258 GiB, 24.56% gc time)\n"
     ]
    }
   ],
   "source": [
    "@time calc_subentropy(Psi)\n",
    "@time multiplyHPsi(Psi, H2);"
   ]
  },
  {
   "cell_type": "markdown",
   "metadata": {},
   "source": [
    "This is the main function of the simulation. It takes the current state vector, the time for which the simulation should be done (in ms), the timestep size (in ms), the current time of the state vector since the beginning (in ms) and a parameter for the progress bar.\n",
    "The output is a 9 column vector with the entropies for the systems after each timestep, the array that contains the corresponding times and the updated state vector."
   ]
  },
  {
   "cell_type": "markdown",
   "metadata": {},
   "source": [
    "For the time evolution, the formula\n",
    "\\begin{align*}\n",
    "\\left|\\Psi(t)\\right> &= e^{-iH(t-t_0)} \\left|\\Psi(t_0)\\right> \\\\\n",
    "\\Rightarrow \\left|\\Psi(t+\\Delta t)\\right> &\\approx \\left|\\Psi(t)\\right> - i \\Delta t \\cdot H \\left|\\Psi(t)\\right>\n",
    "\\end{align*}\n",
    "\n",
    "for $\\Delta t$ small enough."
   ]
  },
  {
   "cell_type": "code",
   "execution_count": 16,
   "metadata": {
    "collapsed": false
   },
   "outputs": [],
   "source": [
    "function timeEvolution(psi::Array, Time::Float64, deltat::Float64, cTime::Float64, p::Int)\n",
    "    t1=time()\n",
    "    counter=Int(p);\n",
    "    timesteps = ceil(Int, Time/deltat)\n",
    "    timearr = range(cTime, step = deltat, length=timesteps+1)\n",
    "    sto = zeros(timesteps+1, 9)\n",
    "    sto[1,:] = calc_subentropy(psi)\n",
    "    for i in 1:timesteps\n",
    "        #Update Psi and calculate entropy of the systems\n",
    "        psi = psi - im*1e-3*deltat*multiplyHPsi(psi, H2) \n",
    "        sto[i+1,:] = calc_subentropy(psi)\n",
    "        #Progress bar\n",
    "        if i/timesteps*100 >= counter\n",
    "            t3 = time()\n",
    "            progress(counter, round(t3-t1; digits=2),p)\n",
    "            counter += p\n",
    "        end\n",
    "        #Check if renormalization is needed\n",
    "        if abs(mynorm(psi)-1) > 1e-5\n",
    "            #println(\"Normalization needed at step \", i)\n",
    "            psi = mynormalize(psi)\n",
    "        end\n",
    "    end\n",
    "    t2=time()\n",
    "    println(\"Total calculation time: \", round(t2-t1; digits=2),\"s\")\n",
    "    # This is to avoid doubling up on timesteps where the function was called again, because the entropy is calculated \n",
    "    # before an initial timestep and after the last one\n",
    "    if cTime != 0\n",
    "        return sto[2:end,:], timearr[2:end], psi \n",
    "    end\n",
    "    return sto, timearr, psi\n",
    "end;"
   ]
  },
  {
   "cell_type": "markdown",
   "metadata": {},
   "source": [
    "The parameters for $\\Delta t$ I chose to be $0.1$ms. The output of the function then gets appended to the current stores."
   ]
  },
  {
   "cell_type": "code",
   "execution_count": 28,
   "metadata": {
    "collapsed": false,
    "scrolled": true
   },
   "outputs": [
    {
     "name": "stdout",
     "output_type": "stream",
     "text": [
      "[=         ] 10% progress; Calculation time: 2667.24s\n",
      "[==        ] 20% progress; Calculation time: 5006.33s\n",
      "[===       ] 30% progress; Calculation time: 7339.96s\n",
      "[====      ] 40% progress; Calculation time: 9714.1s\n",
      "[=====     ] 50% progress; Calculation time: 12148.44s\n",
      "[======    ] 60% progress; Calculation time: 14498.96s\n",
      "[=======   ] 70% progress; Calculation time: 16873.82s\n",
      "[========  ] 80% progress; Calculation time: 19205.9s\n",
      "[========= ] 90% progress; Calculation time: 21540.92s\n",
      "[==========] 100% progress; Calculation time: 23868.72s\n",
      "Total calculation time: 23868.72s\n"
     ]
    },
    {
     "data": {
      "text/plain": [
       "9-element Array{Float64,1}:\n",
       " 1.9816953989185473\n",
       " 2.866594390176186 \n",
       " 3.638863892020264 \n",
       " 4.267145293331381 \n",
       " 4.962268285093565 \n",
       " 5.622844603976998 \n",
       " 6.054308076571824 \n",
       " 6.3331842949744654\n",
       " 6.529965737471565 "
      ]
     },
     "execution_count": 28,
     "metadata": {},
     "output_type": "execute_result"
    }
   ],
   "source": [
    "s = timeEvolution(Psi, 1000., .1, currentTime, 10);\n",
    "store = [store; s[1]]\n",
    "timearray = [timearray; s[2]]\n",
    "currentTime = timearray[end]\n",
    "Psi = s[3];\n",
    "currentTime\n",
    "store[end,:]"
   ]
  },
  {
   "cell_type": "markdown",
   "metadata": {},
   "source": [
    "This is a plot of the time evolution of the different entropies. As one can clearly see, the system with 2 spins saturates at an entropy of 2, the one with 3 at 3 and so on. Since it is very expensive in terms of time to do the simulation, I was not able to simulate far enough to see the saturation for all the systems."
   ]
  },
  {
   "cell_type": "code",
   "execution_count": 29,
   "metadata": {
    "collapsed": false
   },
   "outputs": [
    {
     "data": {
      "image/png": "[encoded data removed]",
      "text/plain": [
       "Figure(PyObject <Figure size 1000x400 with 1 Axes>)"
      ]
     },
     "metadata": {},
     "output_type": "display_data"
    },
    {
     "data": {
      "text/plain": [
       "PyObject <matplotlib.legend.Legend object at 0x000000002309F358>"
      ]
     },
     "execution_count": 29,
     "metadata": {},
     "output_type": "execute_result"
    }
   ],
   "source": [
    "tit = \"Entanglement entropy of \"*string(N)*\" spins\"\n",
    "figure(\"entanglement entropy\", figsize =(10,4))\n",
    "grid(\"on\")\n",
    "legend(\"on\")\n",
    "title(tit)\n",
    "xlabel(\"Time [s]\")\n",
    "ylabel(\"Entropy\")\n",
    "for i in 1:length(store[1,:])\n",
    "    lab = \"n = \"*string(i+1)\n",
    "    plot(timearray ./ 1000, store[:,i], label=lab, linewidth = 1.5)\n",
    "end\n",
    "legend(bbox_to_anchor=(1.05, 1), loc=2, borderaxespad=0.)"
   ]
  },
  {
   "cell_type": "markdown",
   "metadata": {},
   "source": [
    "This somehow does not work anymore."
   ]
  },
  {
   "cell_type": "code",
   "execution_count": 75,
   "metadata": {
    "collapsed": true
   },
   "outputs": [],
   "source": [
    "savefig(\"plot.png\", format=\"png\")"
   ]
  },
  {
   "cell_type": "markdown",
   "metadata": {},
   "source": [
    "This cell can be called in order to store the current data sets."
   ]
  },
  {
   "cell_type": "code",
   "execution_count": 30,
   "metadata": {
    "collapsed": false
   },
   "outputs": [],
   "source": [
    "write_data(store, \"entropy.txt\")\n",
    "write_data(timearray, \"time.txt\")\n",
    "write_data(Psi, \"psi.txt\")"
   ]
  },
  {
   "cell_type": "code",
   "execution_count": 76,
   "metadata": {
    "collapsed": false
   },
   "outputs": [
    {
     "data": {
      "text/plain": [
       "1520.0"
      ]
     },
     "execution_count": 76,
     "metadata": {},
     "output_type": "execute_result"
    }
   ],
   "source": [
    "currentTime"
   ]
  }
 ],
 "metadata": {
  "anaconda-cloud": {},
  "kernelspec": {
   "display_name": "Julia 1.0.0",
   "language": "julia",
   "name": "julia-1.0"
  },
  "language_info": {
   "file_extension": ".jl",
   "mimetype": "application/julia",
   "name": "julia",
   "version": "1.0.0"
  }
 },
 "nbformat": 4,
 "nbformat_minor": 1
}
